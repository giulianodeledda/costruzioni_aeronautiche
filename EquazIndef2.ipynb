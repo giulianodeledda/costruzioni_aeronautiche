{
 "cells": [
  {
   "cell_type": "markdown",
   "metadata": {},
   "source": [
    "# Ala a sbalzo caricata con carico triangolare"
   ]
  },
  {
   "cell_type": "code",
   "execution_count": 52,
   "metadata": {},
   "outputs": [
    {
     "name": "stdout",
     "output_type": "stream",
     "text": [
      "\u001b[H\u001b[2J"
     ]
    }
   ],
   "source": [
    "%clear all"
   ]
  },
  {
   "cell_type": "code",
   "execution_count": 53,
   "metadata": {},
   "outputs": [
    {
     "data": {
      "text/latex": [
       "\\begin{align}\n",
       "\\frac{dV}{dz} = -v(z) \\\\\n",
       "\\frac{dM}{dz} = -V(z)\n",
       "\\end{align}\n"
      ],
      "text/plain": [
       "<IPython.core.display.Latex object>"
      ]
     },
     "metadata": {},
     "output_type": "display_data"
    }
   ],
   "source": [
    "%%latex\n",
    "\\begin{align}\n",
    "\\frac{dV}{dz} = -v(z) \\\\\n",
    "\\frac{dM}{dz} = -V(z)\n",
    "\\end{align}"
   ]
  },
  {
   "cell_type": "code",
   "execution_count": 54,
   "metadata": {},
   "outputs": [],
   "source": [
    "import matplotlib.pyplot as plt\n",
    "from sympy import *\n",
    "init_printing()\n",
    "import numpy as np\n",
    "import pandas as pd"
   ]
  },
  {
   "cell_type": "code",
   "execution_count": 55,
   "metadata": {},
   "outputs": [
    {
     "data": {
      "text/plain": [
       "array([0. , 0.5, 1. , 1.5, 2. , 2.5, 3. , 3.5, 4. , 4.5, 5. ])"
      ]
     },
     "execution_count": 55,
     "metadata": {},
     "output_type": "execute_result"
    }
   ],
   "source": [
    "theq0 = 135.0\n",
    "thel0 = 5.0\n",
    "zs = np.linspace(0,thel0,11)\n",
    "zs"
   ]
  },
  {
   "cell_type": "code",
   "execution_count": 56,
   "metadata": {},
   "outputs": [],
   "source": [
    "z = Symbol(\"z\")\n",
    "q0 = Symbol(\"q0\")\n",
    "l0 = Symbol(\"l0\")\n",
    "V = Function(\"V\")\n",
    "M = Function(\"M\")\n",
    "v = Function(\"v\")"
   ]
  },
  {
   "cell_type": "markdown",
   "metadata": {},
   "source": [
    "## Definizione del carico applicato v(z)"
   ]
  },
  {
   "cell_type": "code",
   "execution_count": 57,
   "metadata": {},
   "outputs": [
    {
     "data": {
      "image/png": "[encoded data removed]",
      "text/latex": [
       "$\\displaystyle v{\\left(z \\right)} = q_{0} - \\frac{q_{0} z}{l_{0}}$"
      ],
      "text/plain": [
       "            q₀⋅z\n",
       "v(z) = q₀ - ────\n",
       "             l₀ "
      ]
     },
     "execution_count": 57,
     "metadata": {},
     "output_type": "execute_result"
    }
   ],
   "source": [
    "load = Eq(v(z),-q0/l0*z+q0)\n",
    "load"
   ]
  },
  {
   "cell_type": "code",
   "execution_count": 58,
   "metadata": {},
   "outputs": [
    {
     "data": {
      "image/png": "[encoded data removed]",
      "text/latex": [
       "$\\displaystyle \\frac{d}{d z} V{\\left(z \\right)} = - q_{0} + \\frac{q_{0} z}{l_{0}}$"
      ],
      "text/plain": [
       "d                q₀⋅z\n",
       "──(V(z)) = -q₀ + ────\n",
       "dz                l₀ "
      ]
     },
     "execution_count": 58,
     "metadata": {},
     "output_type": "execute_result"
    }
   ],
   "source": [
    "EqIndShear = Eq(Derivative(V(z),z),-load.rhs)\n",
    "EqIndShear"
   ]
  },
  {
   "cell_type": "markdown",
   "metadata": {},
   "source": [
    "### Determinazione del taglio V(z)"
   ]
  },
  {
   "cell_type": "code",
   "execution_count": 59,
   "metadata": {},
   "outputs": [
    {
     "data": {
      "image/png": "[encoded data removed]",
      "text/latex": [
       "$\\displaystyle V{\\left(z \\right)} = \\frac{l_{0} q_{0}}{2} - q_{0} z + \\frac{q_{0} z^{2}}{2 l_{0}}$"
      ],
      "text/plain": [
       "                          2\n",
       "       l₀⋅q₀          q₀⋅z \n",
       "V(z) = ───── - q₀⋅z + ─────\n",
       "         2             2⋅l₀"
      ]
     },
     "execution_count": 59,
     "metadata": {},
     "output_type": "execute_result"
    }
   ],
   "source": [
    "Shear = dsolve(EqIndShear,ics={V(l0):0})\n",
    "Shear"
   ]
  },
  {
   "cell_type": "code",
   "execution_count": 60,
   "metadata": {},
   "outputs": [
    {
     "data": {
      "image/png": "[encoded data removed]",
      "text/latex": [
       "$\\displaystyle V{\\left(z \\right)} = 13.5 z^{2} - 135.0 z + 337.5$"
      ],
      "text/plain": [
       "             2                  \n",
       "V(z) = 13.5⋅z  - 135.0⋅z + 337.5"
      ]
     },
     "execution_count": 60,
     "metadata": {},
     "output_type": "execute_result"
    }
   ],
   "source": [
    "Shear.subs([(q0,theq0),(l0,thel0)])"
   ]
  },
  {
   "cell_type": "code",
   "execution_count": 61,
   "metadata": {},
   "outputs": [],
   "source": [
    "theV = []\n",
    "for i in range(len(zs)):\n",
    "    theV.append(Shear.rhs.subs([(q0,135),(l0,5),(z,zs[i])]))"
   ]
  },
  {
   "cell_type": "code",
   "execution_count": 62,
   "metadata": {},
   "outputs": [
    {
     "data": {
      "image/png": "[encoded data removed]",
      "text/plain": [
       "<Figure size 432x288 with 1 Axes>"
      ]
     },
     "metadata": {
      "needs_background": "light"
     },
     "output_type": "display_data"
    }
   ],
   "source": [
    "plt.plot(zs,theV)\n",
    "plt.xlim(0,5)\n",
    "plt.grid()\n",
    "plt.show()"
   ]
  },
  {
   "cell_type": "markdown",
   "metadata": {},
   "source": [
    "### Determinazione del momento flettente M(z)"
   ]
  },
  {
   "cell_type": "code",
   "execution_count": 63,
   "metadata": {},
   "outputs": [
    {
     "data": {
      "image/png": "[encoded data removed]",
      "text/latex": [
       "$\\displaystyle \\frac{d}{d z} M{\\left(z \\right)} = - \\frac{l_{0} q_{0}}{2} + q_{0} z - \\frac{q_{0} z^{2}}{2 l_{0}}$"
      ],
      "text/plain": [
       "                                2\n",
       "d            l₀⋅q₀          q₀⋅z \n",
       "──(M(z)) = - ───── + q₀⋅z - ─────\n",
       "dz             2             2⋅l₀"
      ]
     },
     "execution_count": 63,
     "metadata": {},
     "output_type": "execute_result"
    }
   ],
   "source": [
    "EqIndBending = Eq(Derivative(M(z),z),-Shear.rhs)\n",
    "EqIndBending"
   ]
  },
  {
   "cell_type": "code",
   "execution_count": 64,
   "metadata": {},
   "outputs": [
    {
     "data": {
      "image/png": "[encoded data removed]",
      "text/latex": [
       "$\\displaystyle M{\\left(z \\right)} = \\frac{l_{0}^{2} q_{0}}{6} - \\frac{l_{0} q_{0} z}{2} + \\frac{q_{0} z^{2}}{2} - \\frac{q_{0} z^{3}}{6 l_{0}}$"
      ],
      "text/plain": [
       "         2                    2       3\n",
       "       l₀ ⋅q₀   l₀⋅q₀⋅z   q₀⋅z    q₀⋅z \n",
       "M(z) = ────── - ─────── + ───── - ─────\n",
       "         6         2        2      6⋅l₀"
      ]
     },
     "execution_count": 64,
     "metadata": {},
     "output_type": "execute_result"
    }
   ],
   "source": [
    "Bending = dsolve(EqIndBending,ics={M(l0):0})\n",
    "Bending"
   ]
  },
  {
   "cell_type": "code",
   "execution_count": 65,
   "metadata": {},
   "outputs": [
    {
     "data": {
      "image/png": "[encoded data removed]",
      "text/latex": [
       "$\\displaystyle M{\\left(z \\right)} = - \\frac{9 z^{3}}{2} + \\frac{135 z^{2}}{2} - \\frac{675 z}{2} + \\frac{1125}{2}$"
      ],
      "text/plain": [
       "            3        2               \n",
       "         9⋅z    135⋅z    675⋅z   1125\n",
       "M(z) = - ──── + ────── - ───── + ────\n",
       "          2       2        2      2  "
      ]
     },
     "execution_count": 65,
     "metadata": {},
     "output_type": "execute_result"
    }
   ],
   "source": [
    "Bending.subs([(q0,135),(l0,5)])"
   ]
  },
  {
   "cell_type": "code",
   "execution_count": 66,
   "metadata": {},
   "outputs": [],
   "source": [
    "theM = []\n",
    "for i in range(len(zs)):\n",
    "    theM.append(Bending.rhs.subs([(q0,135),(l0,5),(z,zs[i])]))"
   ]
  },
  {
   "cell_type": "code",
   "execution_count": 67,
   "metadata": {},
   "outputs": [
    {
     "data": {
      "image/png": "[encoded data removed]",
      "text/plain": [
       "<Figure size 432x288 with 1 Axes>"
      ]
     },
     "metadata": {
      "needs_background": "light"
     },
     "output_type": "display_data"
    }
   ],
   "source": [
    "plt.plot(zs,theM)\n",
    "plt.xlim(0,5)\n",
    "plt.grid()\n",
    "plt.show()"
   ]
  },
  {
   "cell_type": "code",
   "execution_count": 68,
   "metadata": {},
   "outputs": [
    {
     "data": {
      "text/html": [
       "<div>\n",
       "<style scoped>\n",
       "    .dataframe tbody tr th:only-of-type {\n",
       "        vertical-align: middle;\n",
       "    }\n",
       "\n",
       "    .dataframe tbody tr th {\n",
       "        vertical-align: top;\n",
       "    }\n",
       "\n",
       "    .dataframe thead th {\n",
       "        text-align: right;\n",
       "    }\n",
       "</style>\n",
       "<table border=\"1\" class=\"dataframe\">\n",
       "  <thead>\n",
       "    <tr style=\"text-align: right;\">\n",
       "      <th></th>\n",
       "      <th>z (m)</th>\n",
       "      <th>V (N)</th>\n",
       "      <th>M (Nm)</th>\n",
       "    </tr>\n",
       "  </thead>\n",
       "  <tbody>\n",
       "    <tr>\n",
       "      <td>0</td>\n",
       "      <td>0.0</td>\n",
       "      <td>337.50</td>\n",
       "      <td>562.500</td>\n",
       "    </tr>\n",
       "    <tr>\n",
       "      <td>1</td>\n",
       "      <td>0.5</td>\n",
       "      <td>273.38</td>\n",
       "      <td>410.062</td>\n",
       "    </tr>\n",
       "    <tr>\n",
       "      <td>2</td>\n",
       "      <td>1.0</td>\n",
       "      <td>216.00</td>\n",
       "      <td>288.000</td>\n",
       "    </tr>\n",
       "    <tr>\n",
       "      <td>3</td>\n",
       "      <td>1.5</td>\n",
       "      <td>165.38</td>\n",
       "      <td>192.938</td>\n",
       "    </tr>\n",
       "    <tr>\n",
       "      <td>4</td>\n",
       "      <td>2.0</td>\n",
       "      <td>121.50</td>\n",
       "      <td>121.500</td>\n",
       "    </tr>\n",
       "    <tr>\n",
       "      <td>5</td>\n",
       "      <td>2.5</td>\n",
       "      <td>84.38</td>\n",
       "      <td>70.312</td>\n",
       "    </tr>\n",
       "    <tr>\n",
       "      <td>6</td>\n",
       "      <td>3.0</td>\n",
       "      <td>54.00</td>\n",
       "      <td>36.000</td>\n",
       "    </tr>\n",
       "    <tr>\n",
       "      <td>7</td>\n",
       "      <td>3.5</td>\n",
       "      <td>30.38</td>\n",
       "      <td>15.188</td>\n",
       "    </tr>\n",
       "    <tr>\n",
       "      <td>8</td>\n",
       "      <td>4.0</td>\n",
       "      <td>13.50</td>\n",
       "      <td>4.500</td>\n",
       "    </tr>\n",
       "    <tr>\n",
       "      <td>9</td>\n",
       "      <td>4.5</td>\n",
       "      <td>3.38</td>\n",
       "      <td>0.562</td>\n",
       "    </tr>\n",
       "    <tr>\n",
       "      <td>10</td>\n",
       "      <td>5.0</td>\n",
       "      <td>0.00</td>\n",
       "      <td>0.000</td>\n",
       "    </tr>\n",
       "  </tbody>\n",
       "</table>\n",
       "</div>"
      ],
      "text/plain": [
       "    z (m)   V (N)   M (Nm)\n",
       "0     0.0  337.50  562.500\n",
       "1     0.5  273.38  410.062\n",
       "2     1.0  216.00  288.000\n",
       "3     1.5  165.38  192.938\n",
       "4     2.0  121.50  121.500\n",
       "5     2.5   84.38   70.312\n",
       "6     3.0   54.00   36.000\n",
       "7     3.5   30.38   15.188\n",
       "8     4.0   13.50    4.500\n",
       "9     4.5    3.38    0.562\n",
       "10    5.0    0.00    0.000"
      ]
     },
     "execution_count": 68,
     "metadata": {},
     "output_type": "execute_result"
    }
   ],
   "source": [
    "dataV = []\n",
    "dataM = []\n",
    "for i in range(len(zs)):\n",
    "    dataV.append(round(theV[i],2))\n",
    "    dataM.append(round(theM[i],3))\n",
    "data = {\"z (m)\":zs,\"V (N)\":dataV,\"M (Nm)\":dataM}\n",
    "df = pd.DataFrame(data)\n",
    "df"
   ]
  },
  {
   "cell_type": "code",
   "execution_count": null,
   "metadata": {},
   "outputs": [],
   "source": []
  }
 ],
 "metadata": {
  "kernelspec": {
   "display_name": "Python 3",
   "language": "python",
   "name": "python3"
  },
  "language_info": {
   "codemirror_mode": {
    "name": "ipython",
    "version": 3
   },
   "file_extension": ".py",
   "mimetype": "text/x-python",
   "name": "python",
   "nbconvert_exporter": "python",
   "pygments_lexer": "ipython3",
   "version": "3.7.4"
  }
 },
 "nbformat": 4,
 "nbformat_minor": 2
}
