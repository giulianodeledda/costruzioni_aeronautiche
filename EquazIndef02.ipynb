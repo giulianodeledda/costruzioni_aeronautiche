{
 "cells": [
  {
   "cell_type": "markdown",
   "metadata": {},
   "source": [
    "# Ala a sbalzo caricata con carico triangolare"
   ]
  },
  {
   "cell_type": "code",
   "execution_count": 177,
   "metadata": {},
   "outputs": [
    {
     "name": "stdout",
     "output_type": "stream",
     "text": [
      "libc++abi.dylib: terminating with uncaught exception of type std::runtime_error: Couldn't close file\r\n"
     ]
    }
   ],
   "source": [
    "%clear all"
   ]
  },
  {
   "cell_type": "code",
   "execution_count": 178,
   "metadata": {},
   "outputs": [
    {
     "data": {
      "text/latex": [
       "\\begin{align}\n",
       "\\frac{dV}{dz} = -v(z) \\\\\n",
       "\\frac{dM}{dz} = -V(z)\n",
       "\\end{align}\n"
      ],
      "text/plain": [
       "<IPython.core.display.Latex object>"
      ]
     },
     "metadata": {},
     "output_type": "display_data"
    }
   ],
   "source": [
    "%%latex\n",
    "\\begin{align}\n",
    "\\frac{dV}{dz} = -v(z) \\\\\n",
    "\\frac{dM}{dz} = -V(z)\n",
    "\\end{align}"
   ]
  },
  {
   "cell_type": "code",
   "execution_count": 179,
   "metadata": {},
   "outputs": [],
   "source": [
    "import matplotlib.pyplot as plt\n",
    "from sympy import *\n",
    "init_printing()\n",
    "import numpy as np\n",
    "import pandas as pd"
   ]
  },
  {
   "cell_type": "code",
   "execution_count": 180,
   "metadata": {},
   "outputs": [
    {
     "data": {
      "text/plain": [
       "array([0. , 0.5, 1. , 1.5, 2. , 2.5, 3. , 3.5, 4. , 4.5, 5. ])"
      ]
     },
     "execution_count": 180,
     "metadata": {},
     "output_type": "execute_result"
    }
   ],
   "source": [
    "g0 = 9.81\n",
    "theq0 = 2550.6 ## N/m\n",
    "thel0 = 5.0 ## m\n",
    "zs = np.linspace(0,thel0,11)\n",
    "zs"
   ]
  },
  {
   "cell_type": "code",
   "execution_count": 181,
   "metadata": {},
   "outputs": [],
   "source": [
    "z = Symbol(\"z\")\n",
    "q0 = Symbol(\"q0\")\n",
    "l0 = Symbol(\"l0\")\n",
    "V = Function(\"V\")\n",
    "M = Function(\"M\")\n",
    "v = Function(\"v\")"
   ]
  },
  {
   "cell_type": "markdown",
   "metadata": {},
   "source": [
    "## Definizione del carico applicato v(z)"
   ]
  },
  {
   "cell_type": "code",
   "execution_count": 182,
   "metadata": {},
   "outputs": [
    {
     "data": {
      "image/png": "[encoded data removed]",
      "text/latex": [
       "$\\displaystyle v{\\left(z \\right)} = q_{0} - \\frac{q_{0} z}{l_{0}}$"
      ],
      "text/plain": [
       "            q₀⋅z\n",
       "v(z) = q₀ - ────\n",
       "             l₀ "
      ]
     },
     "execution_count": 182,
     "metadata": {},
     "output_type": "execute_result"
    }
   ],
   "source": [
    "load = Eq(v(z),-q0/l0*z+q0)\n",
    "load"
   ]
  },
  {
   "cell_type": "markdown",
   "metadata": {},
   "source": [
    "### Calcolo della risultante"
   ]
  },
  {
   "cell_type": "code",
   "execution_count": 183,
   "metadata": {},
   "outputs": [
    {
     "name": "stdout",
     "output_type": "stream",
     "text": [
      "Risultante = 6376.5 N\n"
     ]
    }
   ],
   "source": [
    "resF = integrate(load,(z,0,thel0))\n",
    "theresF=round(resF.rhs.subs([(q0,theq0),(l0,thel0)]),2)\n",
    "print(\"Risultante =\",theresF,\"N\")"
   ]
  },
  {
   "cell_type": "code",
   "execution_count": 184,
   "metadata": {},
   "outputs": [
    {
     "data": {
      "image/png": "[encoded data removed]",
      "text/latex": [
       "$\\displaystyle \\int v{\\left(z \\right)}\\, dz = q_{0} z - \\frac{q_{0} z^{2}}{2 l_{0}}$"
      ],
      "text/plain": [
       "                       2\n",
       "⌠                  q₀⋅z \n",
       "⎮ v(z) dz = q₀⋅z - ─────\n",
       "⌡                   2⋅l₀"
      ]
     },
     "execution_count": 184,
     "metadata": {},
     "output_type": "execute_result"
    }
   ],
   "source": [
    "expr_resF = integrate(load,z)\n",
    "expr_resF"
   ]
  },
  {
   "cell_type": "code",
   "execution_count": 185,
   "metadata": {},
   "outputs": [
    {
     "data": {
      "image/png": "[encoded data removed]",
      "text/latex": [
       "$\\displaystyle \\left[ 2700.0\\right]$"
      ],
      "text/plain": [
       "[2700.0]"
      ]
     },
     "execution_count": 185,
     "metadata": {},
     "output_type": "execute_result"
    }
   ],
   "source": [
    "resF2 = integrate(load,(z,0,thel0))\n",
    "solve(resF2.rhs.subs([(l0,thel0)])-13500/2,q0)"
   ]
  },
  {
   "cell_type": "code",
   "execution_count": 186,
   "metadata": {},
   "outputs": [
    {
     "name": "stdout",
     "output_type": "stream",
     "text": [
      "Momento risultante = 10627.5 Nm\n",
      "\n",
      "Braccio = 1.667 m\n"
     ]
    }
   ],
   "source": [
    "resM = integrate(load.rhs*z,(z,0,thel0))\n",
    "theresM = round(resM.subs([(q0,theq0),(l0,thel0)]),2)\n",
    "print(\"Momento risultante =\",theresM,\"Nm\\n\")\n",
    "print(\"Braccio =\",round(theresM/theresF,3),\"m\")"
   ]
  },
  {
   "cell_type": "code",
   "execution_count": 187,
   "metadata": {},
   "outputs": [
    {
     "name": "stdout",
     "output_type": "stream",
     "text": [
      "Peso dell'aereo = 1300.0 kg\n",
      "\n"
     ]
    }
   ],
   "source": [
    "W = 2*theresF\n",
    "print(\"Peso dell'aereo =\",round(W/g0,2),\"kg\\n\")"
   ]
  },
  {
   "cell_type": "code",
   "execution_count": 188,
   "metadata": {},
   "outputs": [
    {
     "data": {
      "image/png": "[encoded data removed]",
      "text/latex": [
       "$\\displaystyle \\frac{d}{d z} V{\\left(z \\right)} = - q_{0} + \\frac{q_{0} z}{l_{0}}$"
      ],
      "text/plain": [
       "d                q₀⋅z\n",
       "──(V(z)) = -q₀ + ────\n",
       "dz                l₀ "
      ]
     },
     "execution_count": 188,
     "metadata": {},
     "output_type": "execute_result"
    }
   ],
   "source": [
    "EqIndShear = Eq(Derivative(V(z),z),-load.rhs)\n",
    "EqIndShear"
   ]
  },
  {
   "cell_type": "markdown",
   "metadata": {},
   "source": [
    "### Determinazione del taglio V(z)"
   ]
  },
  {
   "cell_type": "code",
   "execution_count": 189,
   "metadata": {},
   "outputs": [
    {
     "data": {
      "image/png": "[encoded data removed]",
      "text/latex": [
       "$\\displaystyle V{\\left(z \\right)} = \\frac{l_{0} q_{0}}{2} - q_{0} z + \\frac{q_{0} z^{2}}{2 l_{0}}$"
      ],
      "text/plain": [
       "                          2\n",
       "       l₀⋅q₀          q₀⋅z \n",
       "V(z) = ───── - q₀⋅z + ─────\n",
       "         2             2⋅l₀"
      ]
     },
     "execution_count": 189,
     "metadata": {},
     "output_type": "execute_result"
    }
   ],
   "source": [
    "Shear = dsolve(EqIndShear,ics={V(l0):0})\n",
    "Shear"
   ]
  },
  {
   "cell_type": "code",
   "execution_count": 190,
   "metadata": {},
   "outputs": [
    {
     "data": {
      "image/png": "[encoded data removed]",
      "text/latex": [
       "$\\displaystyle V{\\left(z \\right)} = 255.06 z^{2} - 2550.6 z + 6376.5$"
      ],
      "text/plain": [
       "               2                    \n",
       "V(z) = 255.06⋅z  - 2550.6⋅z + 6376.5"
      ]
     },
     "execution_count": 190,
     "metadata": {},
     "output_type": "execute_result"
    }
   ],
   "source": [
    "Shear.subs([(q0,theq0),(l0,thel0)])"
   ]
  },
  {
   "cell_type": "code",
   "execution_count": 202,
   "metadata": {},
   "outputs": [],
   "source": [
    "theV = []\n",
    "for i in range(len(zs)):\n",
    "    theV.append(Shear.rhs.subs([(q0,theq0),(l0,thel0),(z,zs[i])]))"
   ]
  },
  {
   "cell_type": "code",
   "execution_count": 203,
   "metadata": {},
   "outputs": [
    {
     "data": {
      "image/png": "[encoded data removed]",
      "text/plain": [
       "<Figure size 432x288 with 1 Axes>"
      ]
     },
     "metadata": {
      "needs_background": "light"
     },
     "output_type": "display_data"
    }
   ],
   "source": [
    "plt.plot(zs,theV)\n",
    "plt.xlim(0,5)\n",
    "plt.grid()\n",
    "plt.show()"
   ]
  },
  {
   "cell_type": "markdown",
   "metadata": {},
   "source": [
    "### Determinazione del momento flettente M(z)"
   ]
  },
  {
   "cell_type": "code",
   "execution_count": 193,
   "metadata": {},
   "outputs": [
    {
     "data": {
      "image/png": "[encoded data removed]",
      "text/latex": [
       "$\\displaystyle \\frac{d}{d z} M{\\left(z \\right)} = - \\frac{l_{0} q_{0}}{2} + q_{0} z - \\frac{q_{0} z^{2}}{2 l_{0}}$"
      ],
      "text/plain": [
       "                                2\n",
       "d            l₀⋅q₀          q₀⋅z \n",
       "──(M(z)) = - ───── + q₀⋅z - ─────\n",
       "dz             2             2⋅l₀"
      ]
     },
     "execution_count": 193,
     "metadata": {},
     "output_type": "execute_result"
    }
   ],
   "source": [
    "EqIndBending = Eq(Derivative(M(z),z),-Shear.rhs)\n",
    "EqIndBending"
   ]
  },
  {
   "cell_type": "code",
   "execution_count": 194,
   "metadata": {},
   "outputs": [
    {
     "data": {
      "image/png": "[encoded data removed]",
      "text/latex": [
       "$\\displaystyle M{\\left(z \\right)} = \\frac{l_{0}^{2} q_{0}}{6} - \\frac{l_{0} q_{0} z}{2} + \\frac{q_{0} z^{2}}{2} - \\frac{q_{0} z^{3}}{6 l_{0}}$"
      ],
      "text/plain": [
       "         2                    2       3\n",
       "       l₀ ⋅q₀   l₀⋅q₀⋅z   q₀⋅z    q₀⋅z \n",
       "M(z) = ────── - ─────── + ───── - ─────\n",
       "         6         2        2      6⋅l₀"
      ]
     },
     "execution_count": 194,
     "metadata": {},
     "output_type": "execute_result"
    }
   ],
   "source": [
    "Bending = dsolve(EqIndBending,ics={M(l0):0})\n",
    "Bending"
   ]
  },
  {
   "cell_type": "code",
   "execution_count": 204,
   "metadata": {},
   "outputs": [
    {
     "data": {
      "image/png": "[encoded data removed]",
      "text/latex": [
       "$\\displaystyle M{\\left(z \\right)} = - 85.02 z^{3} + 1275.3 z^{2} - 6376.5 z + 10627.5$"
      ],
      "text/plain": [
       "                3           2                     \n",
       "M(z) = - 85.02⋅z  + 1275.3⋅z  - 6376.5⋅z + 10627.5"
      ]
     },
     "execution_count": 204,
     "metadata": {},
     "output_type": "execute_result"
    }
   ],
   "source": [
    "Bending.subs([(q0,theq0),(l0,thel0)])"
   ]
  },
  {
   "cell_type": "code",
   "execution_count": 205,
   "metadata": {},
   "outputs": [],
   "source": [
    "theM = []\n",
    "for i in range(len(zs)):\n",
    "    theM.append(Bending.rhs.subs([(q0,theq0),(l0,thel0),(z,zs[i])]))"
   ]
  },
  {
   "cell_type": "code",
   "execution_count": 206,
   "metadata": {},
   "outputs": [
    {
     "data": {
      "image/png": "[encoded data removed]",
      "text/plain": [
       "<Figure size 432x288 with 1 Axes>"
      ]
     },
     "metadata": {
      "needs_background": "light"
     },
     "output_type": "display_data"
    }
   ],
   "source": [
    "plt.plot(zs,theM)\n",
    "plt.xlim(0,5)\n",
    "plt.grid()\n",
    "plt.show()"
   ]
  },
  {
   "cell_type": "code",
   "execution_count": 207,
   "metadata": {},
   "outputs": [
    {
     "data": {
      "text/html": [
       "<div>\n",
       "<style scoped>\n",
       "    .dataframe tbody tr th:only-of-type {\n",
       "        vertical-align: middle;\n",
       "    }\n",
       "\n",
       "    .dataframe tbody tr th {\n",
       "        vertical-align: top;\n",
       "    }\n",
       "\n",
       "    .dataframe thead th {\n",
       "        text-align: right;\n",
       "    }\n",
       "</style>\n",
       "<table border=\"1\" class=\"dataframe\">\n",
       "  <thead>\n",
       "    <tr style=\"text-align: right;\">\n",
       "      <th></th>\n",
       "      <th>z (m)</th>\n",
       "      <th>V (N)</th>\n",
       "      <th>M (Nm)</th>\n",
       "    </tr>\n",
       "  </thead>\n",
       "  <tbody>\n",
       "    <tr>\n",
       "      <td>0</td>\n",
       "      <td>0.0</td>\n",
       "      <td>6376.50</td>\n",
       "      <td>10627.500</td>\n",
       "    </tr>\n",
       "    <tr>\n",
       "      <td>1</td>\n",
       "      <td>0.5</td>\n",
       "      <td>5164.97</td>\n",
       "      <td>7747.448</td>\n",
       "    </tr>\n",
       "    <tr>\n",
       "      <td>2</td>\n",
       "      <td>1.0</td>\n",
       "      <td>4080.96</td>\n",
       "      <td>5441.280</td>\n",
       "    </tr>\n",
       "    <tr>\n",
       "      <td>3</td>\n",
       "      <td>1.5</td>\n",
       "      <td>3124.49</td>\n",
       "      <td>3645.232</td>\n",
       "    </tr>\n",
       "    <tr>\n",
       "      <td>4</td>\n",
       "      <td>2.0</td>\n",
       "      <td>2295.54</td>\n",
       "      <td>2295.540</td>\n",
       "    </tr>\n",
       "    <tr>\n",
       "      <td>5</td>\n",
       "      <td>2.5</td>\n",
       "      <td>1594.12</td>\n",
       "      <td>1328.438</td>\n",
       "    </tr>\n",
       "    <tr>\n",
       "      <td>6</td>\n",
       "      <td>3.0</td>\n",
       "      <td>1020.24</td>\n",
       "      <td>680.160</td>\n",
       "    </tr>\n",
       "    <tr>\n",
       "      <td>7</td>\n",
       "      <td>3.5</td>\n",
       "      <td>573.89</td>\n",
       "      <td>286.942</td>\n",
       "    </tr>\n",
       "    <tr>\n",
       "      <td>8</td>\n",
       "      <td>4.0</td>\n",
       "      <td>255.06</td>\n",
       "      <td>85.020</td>\n",
       "    </tr>\n",
       "    <tr>\n",
       "      <td>9</td>\n",
       "      <td>4.5</td>\n",
       "      <td>63.77</td>\n",
       "      <td>10.627</td>\n",
       "    </tr>\n",
       "    <tr>\n",
       "      <td>10</td>\n",
       "      <td>5.0</td>\n",
       "      <td>0.00</td>\n",
       "      <td>0.000</td>\n",
       "    </tr>\n",
       "  </tbody>\n",
       "</table>\n",
       "</div>"
      ],
      "text/plain": [
       "    z (m)    V (N)     M (Nm)\n",
       "0     0.0  6376.50  10627.500\n",
       "1     0.5  5164.97   7747.448\n",
       "2     1.0  4080.96   5441.280\n",
       "3     1.5  3124.49   3645.232\n",
       "4     2.0  2295.54   2295.540\n",
       "5     2.5  1594.12   1328.438\n",
       "6     3.0  1020.24    680.160\n",
       "7     3.5   573.89    286.942\n",
       "8     4.0   255.06     85.020\n",
       "9     4.5    63.77     10.627\n",
       "10    5.0     0.00      0.000"
      ]
     },
     "execution_count": 207,
     "metadata": {},
     "output_type": "execute_result"
    }
   ],
   "source": [
    "dataV = []\n",
    "dataM = []\n",
    "for i in range(len(zs)):\n",
    "    dataV.append(round(theV[i],2))\n",
    "    dataM.append(round(theM[i],3))\n",
    "data = {\"z (m)\":zs,\"V (N)\":dataV,\"M (Nm)\":dataM}\n",
    "df = pd.DataFrame(data)\n",
    "df"
   ]
  },
  {
   "cell_type": "code",
   "execution_count": 200,
   "metadata": {},
   "outputs": [
    {
     "data": {
      "image/png": "[encoded data removed]",
      "text/plain": [
       "<Figure size 1224x345.6 with 2 Axes>"
      ]
     },
     "metadata": {
      "needs_background": "light"
     },
     "output_type": "display_data"
    }
   ],
   "source": [
    "plt.figure(figsize=(17,4.8))\n",
    "plt.suptitle(\"W = \"+str(round(W/g0,2))+\" kg - $l_0$ = \"+str(thel0)+\" m\")\n",
    "plt.subplots_adjust(wspace=0.3)\n",
    "##\n",
    "plt.subplot(1,2,1)\n",
    "plt.title(\"Taglio\")\n",
    "plt.xlim(0,thel0)\n",
    "plt.plot(zs,theV)\n",
    "plt.xlim(0,thel0)\n",
    "plt.xlabel(\"z[m]\\nFigura 1\")\n",
    "plt.ylabel(\"V[N]\")\n",
    "plt.grid()\n",
    "plt.subplot(1,2,2)\n",
    "plt.title(\"Momento Flettente\")\n",
    "plt.plot(zs,theM)\n",
    "plt.xlim(0,thel0)\n",
    "plt.xlabel(\"z[m]\\nFigura 2\")\n",
    "plt.ylabel(\"M[Nm]\")\n",
    "plt.grid()\n",
    "plt.show()"
   ]
  },
  {
   "cell_type": "code",
   "execution_count": null,
   "metadata": {},
   "outputs": [],
   "source": []
  }
 ],
 "metadata": {
  "kernelspec": {
   "display_name": "Python 3",
   "language": "python",
   "name": "python3"
  },
  "language_info": {
   "codemirror_mode": {
    "name": "ipython",
    "version": 3
   },
   "file_extension": ".py",
   "mimetype": "text/x-python",
   "name": "python",
   "nbconvert_exporter": "python",
   "pygments_lexer": "ipython3",
   "version": "3.7.4"
  }
 },
 "nbformat": 4,
 "nbformat_minor": 2
}
